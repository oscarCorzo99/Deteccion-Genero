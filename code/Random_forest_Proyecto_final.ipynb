{
  "nbformat": 4,
  "nbformat_minor": 0,
  "metadata": {
    "colab": {
      "provenance": []
    },
    "kernelspec": {
      "name": "python3",
      "display_name": "Python 3"
    },
    "language_info": {
      "name": "python"
    }
  },
  "cells": [
    {
      "cell_type": "code",
      "execution_count": 29,
      "metadata": {
        "id": "ZjAspw_bczGv"
      },
      "outputs": [],
      "source": [
        "import pandas as pd\n",
        "import numpy as np\n",
        "from sklearn.preprocessing import StandardScaler\n",
        "from sklearn.model_selection import train_test_split\n",
        "from sklearn.ensemble import RandomForestClassifier\n",
        "import pickle"
      ]
    },
    {
      "cell_type": "code",
      "source": [
        "#Inspección del conjunto de datos de entrada\n",
        "music = pd.read_csv('/home/features_30_sec.csv')\n",
        "music = music.drop(columns=['harmony_mean','harmony_var','perceptr_mean','perceptr_var'])\n",
        "print(len(list(music.columns))-3)"
      ],
      "metadata": {
        "colab": {
          "base_uri": "https://localhost:8080/"
        },
        "id": "fUdVSw9zfpWE",
        "outputId": "055f6e9c-c890-42df-fde2-390a4fc972f7"
      },
      "execution_count": 2,
      "outputs": [
        {
          "output_type": "stream",
          "name": "stdout",
          "text": [
            "53\n"
          ]
        }
      ]
    },
    {
      "cell_type": "code",
      "source": [
        "music_label = music.values[:,-1]\n",
        "music_features = music.values[:,2:-1]\n",
        "music_index = music.values[:,0:1]\n",
        "\n",
        "#Se pegan la etiqueta y el nombre de la canción\n",
        "music_label = np.concatenate((music_label.reshape(1000,1),music_index.reshape(1000,1)), axis=1)\n",
        "print(music_label[0:4,:])"
      ],
      "metadata": {
        "colab": {
          "base_uri": "https://localhost:8080/"
        },
        "id": "LGu_POEXfyAe",
        "outputId": "8aa0cdd8-61dc-4d31-9a2a-ff28c158d963"
      },
      "execution_count": 3,
      "outputs": [
        {
          "output_type": "stream",
          "name": "stdout",
          "text": [
            "[['blues' 'blues.00000.wav']\n",
            " ['blues' 'blues.00001.wav']\n",
            " ['blues' 'blues.00002.wav']\n",
            " ['blues' 'blues.00003.wav']]\n"
          ]
        }
      ]
    },
    {
      "cell_type": "code",
      "source": [
        "\n",
        "X_train, X_val_test, y_train, y_val_test = train_test_split(music_features, music_label, test_size=0.20, random_state=42)\n",
        "X_val, X_test, y_val, y_test = train_test_split(X_val_test, y_val_test, test_size=0.50, random_state=42)\n"
      ],
      "metadata": {
        "id": "dquwD5V8f6rd"
      },
      "execution_count": 4,
      "outputs": []
    },
    {
      "cell_type": "code",
      "source": [
        "#Se sintoniza el algoritmo de random forest\n",
        "music_forest = RandomForestClassifier(max_depth=10, random_state=0, oob_score =True)\n",
        "music_forest.fit(X_train, y_train[:,0])\n",
        "music_forest.oob_score_"
      ],
      "metadata": {
        "colab": {
          "base_uri": "https://localhost:8080/"
        },
        "id": "qf7iXFjxg2Dh",
        "outputId": "9a48f250-5609-471d-80bc-ca95145669d6"
      },
      "execution_count": 5,
      "outputs": [
        {
          "output_type": "execute_result",
          "data": {
            "text/plain": [
              "0.69125"
            ]
          },
          "metadata": {},
          "execution_count": 5
        }
      ]
    },
    {
      "cell_type": "code",
      "source": [
        "out_val = music_forest.predict(X_val)\n",
        "print(out_val[:5])"
      ],
      "metadata": {
        "colab": {
          "base_uri": "https://localhost:8080/"
        },
        "id": "R9Jl23vLhvDN",
        "outputId": "3c57ed35-e04c-447c-dcae-79b566db8390"
      },
      "execution_count": 6,
      "outputs": [
        {
          "output_type": "stream",
          "name": "stdout",
          "text": [
            "['hiphop' 'metal' 'pop' 'reggae' 'metal']\n"
          ]
        }
      ]
    },
    {
      "cell_type": "code",
      "source": [
        "unique, counts = np.unique(out_val, return_counts=True)\n",
        "dict(zip(unique, counts))"
      ],
      "metadata": {
        "colab": {
          "base_uri": "https://localhost:8080/"
        },
        "id": "1RM_Fh-HpyBf",
        "outputId": "effe2dfd-8f98-4482-b7e0-0ce193c66581"
      },
      "execution_count": 7,
      "outputs": [
        {
          "output_type": "execute_result",
          "data": {
            "text/plain": [
              "{'blues': 9,\n",
              " 'classical': 7,\n",
              " 'country': 5,\n",
              " 'disco': 8,\n",
              " 'hiphop': 11,\n",
              " 'jazz': 15,\n",
              " 'metal': 17,\n",
              " 'pop': 4,\n",
              " 'reggae': 11,\n",
              " 'rock': 13}"
            ]
          },
          "metadata": {},
          "execution_count": 7
        }
      ]
    },
    {
      "cell_type": "code",
      "source": [
        "unique, counts = np.unique(y_val[:,0], return_counts=True)\n",
        "dict(zip(unique, counts))"
      ],
      "metadata": {
        "colab": {
          "base_uri": "https://localhost:8080/"
        },
        "id": "h2y_DgQLiABO",
        "outputId": "38358e3e-5d43-4bcb-cb7e-0ec657799642"
      },
      "execution_count": 8,
      "outputs": [
        {
          "output_type": "execute_result",
          "data": {
            "text/plain": [
              "{'blues': 7,\n",
              " 'classical': 7,\n",
              " 'country': 11,\n",
              " 'disco': 8,\n",
              " 'hiphop': 9,\n",
              " 'jazz': 16,\n",
              " 'metal': 13,\n",
              " 'pop': 5,\n",
              " 'reggae': 12,\n",
              " 'rock': 12}"
            ]
          },
          "metadata": {},
          "execution_count": 8
        }
      ]
    },
    {
      "cell_type": "code",
      "source": [
        "from sklearn.metrics import confusion_matrix\n",
        "import seaborn as sns\n",
        "import matplotlib.pyplot as plt\n",
        "from sklearn.metrics import classification_report"
      ],
      "metadata": {
        "id": "sh0bpm2OiEuv"
      },
      "execution_count": 9,
      "outputs": []
    },
    {
      "cell_type": "code",
      "source": [
        "plt.figure(figsize=(8,6), dpi=100)\n",
        "cf_matrix = confusion_matrix(out_val, y_val[:,0])\n",
        "\n",
        "sns.set(font_scale = 0.6)\n",
        "ax = sns.heatmap(cf_matrix, annot=True)\n",
        "\n",
        "ax.set_xlabel(\"Género real\", fontsize=14, labelpad=20)\n",
        "ax.xaxis.set_ticklabels(unique)\n",
        "\n",
        "ax.set_ylabel(\"Género predicho\", fontsize=14, labelpad=20)\n",
        "ax.yaxis.set_ticklabels(unique)\n",
        "plt.show()"
      ],
      "metadata": {
        "colab": {
          "base_uri": "https://localhost:8080/",
          "height": 571
        },
        "id": "N5bh0uPgnWoM",
        "outputId": "55fdf4d2-59c2-400b-9bc6-7d241c703877"
      },
      "execution_count": 10,
      "outputs": [
        {
          "output_type": "display_data",
          "data": {
            "text/plain": [
              "<Figure size 800x600 with 2 Axes>"
            ],
            "image/png": "[encoded data removed]"
          },
          "metadata": {}
        }
      ]
    },
    {
      "cell_type": "code",
      "source": [
        "print(classification_report(y_val[:,0], out_val))"
      ],
      "metadata": {
        "colab": {
          "base_uri": "https://localhost:8080/"
        },
        "id": "Cl0gn-p2nn6g",
        "outputId": "bdb7e786-d940-4ce7-f452-8bdd72e68974"
      },
      "execution_count": 11,
      "outputs": [
        {
          "output_type": "stream",
          "name": "stdout",
          "text": [
            "              precision    recall  f1-score   support\n",
            "\n",
            "       blues       0.56      0.71      0.63         7\n",
            "   classical       1.00      1.00      1.00         7\n",
            "     country       1.00      0.45      0.62        11\n",
            "       disco       0.38      0.38      0.38         8\n",
            "      hiphop       0.64      0.78      0.70         9\n",
            "        jazz       0.93      0.88      0.90        16\n",
            "       metal       0.71      0.92      0.80        13\n",
            "         pop       0.75      0.60      0.67         5\n",
            "      reggae       0.64      0.58      0.61        12\n",
            "        rock       0.54      0.58      0.56        12\n",
            "\n",
            "    accuracy                           0.70       100\n",
            "   macro avg       0.71      0.69      0.69       100\n",
            "weighted avg       0.73      0.70      0.70       100\n",
            "\n"
          ]
        }
      ]
    },
    {
      "cell_type": "code",
      "source": [
        "from sklearn.model_selection import ParameterGrid"
      ],
      "metadata": {
        "id": "XkZWuCu61N0M"
      },
      "execution_count": 12,
      "outputs": []
    },
    {
      "cell_type": "code",
      "source": [
        "#Evaluación de más configuraciones de random forests\n",
        "\n",
        "# Grid de hiperparámetros evaluados\n",
        "# ==============================================================================\n",
        "param_grid = ParameterGrid(\n",
        "                {'n_estimators': [150],\n",
        "                 'max_features': [5, 7, 9, 11],\n",
        "                 'max_depth'   : [None, 3, 10, 20],\n",
        "                 'criterion'   : ['gini', 'entropy']\n",
        "                }\n",
        "            )\n",
        "# Loop para ajustar un modelo con cada combinación de hiperparámetros\n",
        "# ==============================================================================\n",
        "resultados = {'params': [], 'oob_accuracy': []}\n",
        "\n",
        "for params in param_grid:\n",
        "\n",
        "    modelo = RandomForestClassifier(\n",
        "                oob_score    = True,\n",
        "                n_jobs       = -1,\n",
        "                random_state = 0,\n",
        "                ** params\n",
        "             )\n",
        "\n",
        "    modelo.fit(X_train, y_train[:,0])\n",
        "\n",
        "    resultados['params'].append(params)\n",
        "    resultados['oob_accuracy'].append(modelo.oob_score_)\n",
        "    print(f\"Modelo: {params} \\u2713\")\n",
        "\n",
        "resultados = pd.DataFrame(resultados)\n",
        "resultados = pd.concat([resultados, resultados['params'].apply(pd.Series)], axis=1)\n",
        "resultados = resultados.sort_values('oob_accuracy', ascending=False)\n",
        "resultados = resultados.drop(columns = 'params')\n",
        "resultados.head(4)"
      ],
      "metadata": {
        "id": "0xI2p1q2wN2q",
        "colab": {
          "base_uri": "https://localhost:8080/",
          "height": 730
        },
        "outputId": "608f52d4-3aab-4355-ad35-a591f390e508"
      },
      "execution_count": 13,
      "outputs": [
        {
          "output_type": "stream",
          "name": "stdout",
          "text": [
            "Modelo: {'criterion': 'gini', 'max_depth': None, 'max_features': 5, 'n_estimators': 150} ✓\n",
            "Modelo: {'criterion': 'gini', 'max_depth': None, 'max_features': 7, 'n_estimators': 150} ✓\n",
            "Modelo: {'criterion': 'gini', 'max_depth': None, 'max_features': 9, 'n_estimators': 150} ✓\n",
            "Modelo: {'criterion': 'gini', 'max_depth': None, 'max_features': 11, 'n_estimators': 150} ✓\n",
            "Modelo: {'criterion': 'gini', 'max_depth': 3, 'max_features': 5, 'n_estimators': 150} ✓\n",
            "Modelo: {'criterion': 'gini', 'max_depth': 3, 'max_features': 7, 'n_estimators': 150} ✓\n",
            "Modelo: {'criterion': 'gini', 'max_depth': 3, 'max_features': 9, 'n_estimators': 150} ✓\n",
            "Modelo: {'criterion': 'gini', 'max_depth': 3, 'max_features': 11, 'n_estimators': 150} ✓\n",
            "Modelo: {'criterion': 'gini', 'max_depth': 10, 'max_features': 5, 'n_estimators': 150} ✓\n",
            "Modelo: {'criterion': 'gini', 'max_depth': 10, 'max_features': 7, 'n_estimators': 150} ✓\n",
            "Modelo: {'criterion': 'gini', 'max_depth': 10, 'max_features': 9, 'n_estimators': 150} ✓\n",
            "Modelo: {'criterion': 'gini', 'max_depth': 10, 'max_features': 11, 'n_estimators': 150} ✓\n",
            "Modelo: {'criterion': 'gini', 'max_depth': 20, 'max_features': 5, 'n_estimators': 150} ✓\n",
            "Modelo: {'criterion': 'gini', 'max_depth': 20, 'max_features': 7, 'n_estimators': 150} ✓\n",
            "Modelo: {'criterion': 'gini', 'max_depth': 20, 'max_features': 9, 'n_estimators': 150} ✓\n",
            "Modelo: {'criterion': 'gini', 'max_depth': 20, 'max_features': 11, 'n_estimators': 150} ✓\n",
            "Modelo: {'criterion': 'entropy', 'max_depth': None, 'max_features': 5, 'n_estimators': 150} ✓\n",
            "Modelo: {'criterion': 'entropy', 'max_depth': None, 'max_features': 7, 'n_estimators': 150} ✓\n",
            "Modelo: {'criterion': 'entropy', 'max_depth': None, 'max_features': 9, 'n_estimators': 150} ✓\n",
            "Modelo: {'criterion': 'entropy', 'max_depth': None, 'max_features': 11, 'n_estimators': 150} ✓\n",
            "Modelo: {'criterion': 'entropy', 'max_depth': 3, 'max_features': 5, 'n_estimators': 150} ✓\n",
            "Modelo: {'criterion': 'entropy', 'max_depth': 3, 'max_features': 7, 'n_estimators': 150} ✓\n",
            "Modelo: {'criterion': 'entropy', 'max_depth': 3, 'max_features': 9, 'n_estimators': 150} ✓\n",
            "Modelo: {'criterion': 'entropy', 'max_depth': 3, 'max_features': 11, 'n_estimators': 150} ✓\n",
            "Modelo: {'criterion': 'entropy', 'max_depth': 10, 'max_features': 5, 'n_estimators': 150} ✓\n",
            "Modelo: {'criterion': 'entropy', 'max_depth': 10, 'max_features': 7, 'n_estimators': 150} ✓\n",
            "Modelo: {'criterion': 'entropy', 'max_depth': 10, 'max_features': 9, 'n_estimators': 150} ✓\n",
            "Modelo: {'criterion': 'entropy', 'max_depth': 10, 'max_features': 11, 'n_estimators': 150} ✓\n",
            "Modelo: {'criterion': 'entropy', 'max_depth': 20, 'max_features': 5, 'n_estimators': 150} ✓\n",
            "Modelo: {'criterion': 'entropy', 'max_depth': 20, 'max_features': 7, 'n_estimators': 150} ✓\n",
            "Modelo: {'criterion': 'entropy', 'max_depth': 20, 'max_features': 9, 'n_estimators': 150} ✓\n",
            "Modelo: {'criterion': 'entropy', 'max_depth': 20, 'max_features': 11, 'n_estimators': 150} ✓\n"
          ]
        },
        {
          "output_type": "execute_result",
          "data": {
            "text/plain": [
              "    oob_accuracy criterion  max_depth  max_features  n_estimators\n",
              "2        0.70375      gini        NaN             9           150\n",
              "14       0.70250      gini       20.0             9           150\n",
              "17       0.69625   entropy        NaN             7           150\n",
              "29       0.69625   entropy       20.0             7           150"
            ],
            "text/html": [
              "\n",
              "  <div id=\"df-fd11a9a5-b4e3-419a-ba89-eede616b64cb\" class=\"colab-df-container\">\n",
              "    <div>\n",
              "<style scoped>\n",
              "    .dataframe tbody tr th:only-of-type {\n",
              "        vertical-align: middle;\n",
              "    }\n",
              "\n",
              "    .dataframe tbody tr th {\n",
              "        vertical-align: top;\n",
              "    }\n",
              "\n",
              "    .dataframe thead th {\n",
              "        text-align: right;\n",
              "    }\n",
              "</style>\n",
              "<table border=\"1\" class=\"dataframe\">\n",
              "  <thead>\n",
              "    <tr style=\"text-align: right;\">\n",
              "      <th></th>\n",
              "      <th>oob_accuracy</th>\n",
              "      <th>criterion</th>\n",
              "      <th>max_depth</th>\n",
              "      <th>max_features</th>\n",
              "      <th>n_estimators</th>\n",
              "    </tr>\n",
              "  </thead>\n",
              "  <tbody>\n",
              "    <tr>\n",
              "      <th>2</th>\n",
              "      <td>0.70375</td>\n",
              "      <td>gini</td>\n",
              "      <td>NaN</td>\n",
              "      <td>9</td>\n",
              "      <td>150</td>\n",
              "    </tr>\n",
              "    <tr>\n",
              "      <th>14</th>\n",
              "      <td>0.70250</td>\n",
              "      <td>gini</td>\n",
              "      <td>20.0</td>\n",
              "      <td>9</td>\n",
              "      <td>150</td>\n",
              "    </tr>\n",
              "    <tr>\n",
              "      <th>17</th>\n",
              "      <td>0.69625</td>\n",
              "      <td>entropy</td>\n",
              "      <td>NaN</td>\n",
              "      <td>7</td>\n",
              "      <td>150</td>\n",
              "    </tr>\n",
              "    <tr>\n",
              "      <th>29</th>\n",
              "      <td>0.69625</td>\n",
              "      <td>entropy</td>\n",
              "      <td>20.0</td>\n",
              "      <td>7</td>\n",
              "      <td>150</td>\n",
              "    </tr>\n",
              "  </tbody>\n",
              "</table>\n",
              "</div>\n",
              "    <div class=\"colab-df-buttons\">\n",
              "\n",
              "  <div class=\"colab-df-container\">\n",
              "    <button class=\"colab-df-convert\" onclick=\"convertToInteractive('df-fd11a9a5-b4e3-419a-ba89-eede616b64cb')\"\n",
              "            title=\"Convert this dataframe to an interactive table.\"\n",
              "            style=\"display:none;\">\n",
              "\n",
              "  <svg xmlns=\"http://www.w3.org/2000/svg\" height=\"24px\" viewBox=\"0 -960 960 960\">\n",
              "    <path d=\"M120-120v-720h720v720H120Zm60-500h600v-160H180v160Zm220 220h160v-160H400v160Zm0 220h160v-160H400v160ZM180-400h160v-160H180v160Zm440 0h160v-160H620v160ZM180-180h160v-160H180v160Zm440 0h160v-160H620v160Z\"/>\n",
              "  </svg>\n",
              "    </button>\n",
              "\n",
              "  <style>\n",
              "    .colab-df-container {\n",
              "      display:flex;\n",
              "      gap: 12px;\n",
              "    }\n",
              "\n",
              "    .colab-df-convert {\n",
              "      background-color: #E8F0FE;\n",
              "      border: none;\n",
              "      border-radius: 50%;\n",
              "      cursor: pointer;\n",
              "      display: none;\n",
              "      fill: #1967D2;\n",
              "      height: 32px;\n",
              "      padding: 0 0 0 0;\n",
              "      width: 32px;\n",
              "    }\n",
              "\n",
              "    .colab-df-convert:hover {\n",
              "      background-color: #E2EBFA;\n",
              "      box-shadow: 0px 1px 2px rgba(60, 64, 67, 0.3), 0px 1px 3px 1px rgba(60, 64, 67, 0.15);\n",
              "      fill: #174EA6;\n",
              "    }\n",
              "\n",
              "    .colab-df-buttons div {\n",
              "      margin-bottom: 4px;\n",
              "    }\n",
              "\n",
              "    [theme=dark] .colab-df-convert {\n",
              "      background-color: #3B4455;\n",
              "      fill: #D2E3FC;\n",
              "    }\n",
              "\n",
              "    [theme=dark] .colab-df-convert:hover {\n",
              "      background-color: #434B5C;\n",
              "      box-shadow: 0px 1px 3px 1px rgba(0, 0, 0, 0.15);\n",
              "      filter: drop-shadow(0px 1px 2px rgba(0, 0, 0, 0.3));\n",
              "      fill: #FFFFFF;\n",
              "    }\n",
              "  </style>\n",
              "\n",
              "    <script>\n",
              "      const buttonEl =\n",
              "        document.querySelector('#df-fd11a9a5-b4e3-419a-ba89-eede616b64cb button.colab-df-convert');\n",
              "      buttonEl.style.display =\n",
              "        google.colab.kernel.accessAllowed ? 'block' : 'none';\n",
              "\n",
              "      async function convertToInteractive(key) {\n",
              "        const element = document.querySelector('#df-fd11a9a5-b4e3-419a-ba89-eede616b64cb');\n",
              "        const dataTable =\n",
              "          await google.colab.kernel.invokeFunction('convertToInteractive',\n",
              "                                                    [key], {});\n",
              "        if (!dataTable) return;\n",
              "\n",
              "        const docLinkHtml = 'Like what you see? Visit the ' +\n",
              "          '<a target=\"_blank\" href=https://colab.research.google.com/notebooks/data_table.ipynb>data table notebook</a>'\n",
              "          + ' to learn more about interactive tables.';\n",
              "        element.innerHTML = '';\n",
              "        dataTable['output_type'] = 'display_data';\n",
              "        await google.colab.output.renderOutput(dataTable, element);\n",
              "        const docLink = document.createElement('div');\n",
              "        docLink.innerHTML = docLinkHtml;\n",
              "        element.appendChild(docLink);\n",
              "      }\n",
              "    </script>\n",
              "  </div>\n",
              "\n",
              "\n",
              "<div id=\"df-0ce3e881-8b1b-431b-8c82-17079b60ef80\">\n",
              "  <button class=\"colab-df-quickchart\" onclick=\"quickchart('df-0ce3e881-8b1b-431b-8c82-17079b60ef80')\"\n",
              "            title=\"Suggest charts\"\n",
              "            style=\"display:none;\">\n",
              "\n",
              "<svg xmlns=\"http://www.w3.org/2000/svg\" height=\"24px\"viewBox=\"0 0 24 24\"\n",
              "     width=\"24px\">\n",
              "    <g>\n",
              "        <path d=\"M19 3H5c-1.1 0-2 .9-2 2v14c0 1.1.9 2 2 2h14c1.1 0 2-.9 2-2V5c0-1.1-.9-2-2-2zM9 17H7v-7h2v7zm4 0h-2V7h2v10zm4 0h-2v-4h2v4z\"/>\n",
              "    </g>\n",
              "</svg>\n",
              "  </button>\n",
              "\n",
              "<style>\n",
              "  .colab-df-quickchart {\n",
              "      --bg-color: #E8F0FE;\n",
              "      --fill-color: #1967D2;\n",
              "      --hover-bg-color: #E2EBFA;\n",
              "      --hover-fill-color: #174EA6;\n",
              "      --disabled-fill-color: #AAA;\n",
              "      --disabled-bg-color: #DDD;\n",
              "  }\n",
              "\n",
              "  [theme=dark] .colab-df-quickchart {\n",
              "      --bg-color: #3B4455;\n",
              "      --fill-color: #D2E3FC;\n",
              "      --hover-bg-color: #434B5C;\n",
              "      --hover-fill-color: #FFFFFF;\n",
              "      --disabled-bg-color: #3B4455;\n",
              "      --disabled-fill-color: #666;\n",
              "  }\n",
              "\n",
              "  .colab-df-quickchart {\n",
              "    background-color: var(--bg-color);\n",
              "    border: none;\n",
              "    border-radius: 50%;\n",
              "    cursor: pointer;\n",
              "    display: none;\n",
              "    fill: var(--fill-color);\n",
              "    height: 32px;\n",
              "    padding: 0;\n",
              "    width: 32px;\n",
              "  }\n",
              "\n",
              "  .colab-df-quickchart:hover {\n",
              "    background-color: var(--hover-bg-color);\n",
              "    box-shadow: 0 1px 2px rgba(60, 64, 67, 0.3), 0 1px 3px 1px rgba(60, 64, 67, 0.15);\n",
              "    fill: var(--button-hover-fill-color);\n",
              "  }\n",
              "\n",
              "  .colab-df-quickchart-complete:disabled,\n",
              "  .colab-df-quickchart-complete:disabled:hover {\n",
              "    background-color: var(--disabled-bg-color);\n",
              "    fill: var(--disabled-fill-color);\n",
              "    box-shadow: none;\n",
              "  }\n",
              "\n",
              "  .colab-df-spinner {\n",
              "    border: 2px solid var(--fill-color);\n",
              "    border-color: transparent;\n",
              "    border-bottom-color: var(--fill-color);\n",
              "    animation:\n",
              "      spin 1s steps(1) infinite;\n",
              "  }\n",
              "\n",
              "  @keyframes spin {\n",
              "    0% {\n",
              "      border-color: transparent;\n",
              "      border-bottom-color: var(--fill-color);\n",
              "      border-left-color: var(--fill-color);\n",
              "    }\n",
              "    20% {\n",
              "      border-color: transparent;\n",
              "      border-left-color: var(--fill-color);\n",
              "      border-top-color: var(--fill-color);\n",
              "    }\n",
              "    30% {\n",
              "      border-color: transparent;\n",
              "      border-left-color: var(--fill-color);\n",
              "      border-top-color: var(--fill-color);\n",
              "      border-right-color: var(--fill-color);\n",
              "    }\n",
              "    40% {\n",
              "      border-color: transparent;\n",
              "      border-right-color: var(--fill-color);\n",
              "      border-top-color: var(--fill-color);\n",
              "    }\n",
              "    60% {\n",
              "      border-color: transparent;\n",
              "      border-right-color: var(--fill-color);\n",
              "    }\n",
              "    80% {\n",
              "      border-color: transparent;\n",
              "      border-right-color: var(--fill-color);\n",
              "      border-bottom-color: var(--fill-color);\n",
              "    }\n",
              "    90% {\n",
              "      border-color: transparent;\n",
              "      border-bottom-color: var(--fill-color);\n",
              "    }\n",
              "  }\n",
              "</style>\n",
              "\n",
              "  <script>\n",
              "    async function quickchart(key) {\n",
              "      const quickchartButtonEl =\n",
              "        document.querySelector('#' + key + ' button');\n",
              "      quickchartButtonEl.disabled = true;  // To prevent multiple clicks.\n",
              "      quickchartButtonEl.classList.add('colab-df-spinner');\n",
              "      try {\n",
              "        const charts = await google.colab.kernel.invokeFunction(\n",
              "            'suggestCharts', [key], {});\n",
              "      } catch (error) {\n",
              "        console.error('Error during call to suggestCharts:', error);\n",
              "      }\n",
              "      quickchartButtonEl.classList.remove('colab-df-spinner');\n",
              "      quickchartButtonEl.classList.add('colab-df-quickchart-complete');\n",
              "    }\n",
              "    (() => {\n",
              "      let quickchartButtonEl =\n",
              "        document.querySelector('#df-0ce3e881-8b1b-431b-8c82-17079b60ef80 button');\n",
              "      quickchartButtonEl.style.display =\n",
              "        google.colab.kernel.accessAllowed ? 'block' : 'none';\n",
              "    })();\n",
              "  </script>\n",
              "</div>\n",
              "    </div>\n",
              "  </div>\n"
            ]
          },
          "metadata": {},
          "execution_count": 13
        }
      ]
    },
    {
      "cell_type": "code",
      "source": [
        "resultados.tail(10)"
      ],
      "metadata": {
        "colab": {
          "base_uri": "https://localhost:8080/",
          "height": 363
        },
        "id": "bJEZNgus4zfr",
        "outputId": "05563572-52c7-4211-ddfe-86cbad86dcc5"
      },
      "execution_count": 14,
      "outputs": [
        {
          "output_type": "execute_result",
          "data": {
            "text/plain": [
              "    oob_accuracy criterion  max_depth  max_features  n_estimators\n",
              "0        0.67250      gini        NaN             5           150\n",
              "12       0.67000      gini       20.0             5           150\n",
              "5        0.51500      gini        3.0             7           150\n",
              "7        0.51000      gini        3.0            11           150\n",
              "6        0.50750      gini        3.0             9           150\n",
              "21       0.49875   entropy        3.0             7           150\n",
              "22       0.49250   entropy        3.0             9           150\n",
              "23       0.48875   entropy        3.0            11           150\n",
              "4        0.48375      gini        3.0             5           150\n",
              "20       0.46250   entropy        3.0             5           150"
            ],
            "text/html": [
              "\n",
              "  <div id=\"df-ea8b7ecb-5cbd-4c62-8968-553ceb5de141\" class=\"colab-df-container\">\n",
              "    <div>\n",
              "<style scoped>\n",
              "    .dataframe tbody tr th:only-of-type {\n",
              "        vertical-align: middle;\n",
              "    }\n",
              "\n",
              "    .dataframe tbody tr th {\n",
              "        vertical-align: top;\n",
              "    }\n",
              "\n",
              "    .dataframe thead th {\n",
              "        text-align: right;\n",
              "    }\n",
              "</style>\n",
              "<table border=\"1\" class=\"dataframe\">\n",
              "  <thead>\n",
              "    <tr style=\"text-align: right;\">\n",
              "      <th></th>\n",
              "      <th>oob_accuracy</th>\n",
              "      <th>criterion</th>\n",
              "      <th>max_depth</th>\n",
              "      <th>max_features</th>\n",
              "      <th>n_estimators</th>\n",
              "    </tr>\n",
              "  </thead>\n",
              "  <tbody>\n",
              "    <tr>\n",
              "      <th>0</th>\n",
              "      <td>0.67250</td>\n",
              "      <td>gini</td>\n",
              "      <td>NaN</td>\n",
              "      <td>5</td>\n",
              "      <td>150</td>\n",
              "    </tr>\n",
              "    <tr>\n",
              "      <th>12</th>\n",
              "      <td>0.67000</td>\n",
              "      <td>gini</td>\n",
              "      <td>20.0</td>\n",
              "      <td>5</td>\n",
              "      <td>150</td>\n",
              "    </tr>\n",
              "    <tr>\n",
              "      <th>5</th>\n",
              "      <td>0.51500</td>\n",
              "      <td>gini</td>\n",
              "      <td>3.0</td>\n",
              "      <td>7</td>\n",
              "      <td>150</td>\n",
              "    </tr>\n",
              "    <tr>\n",
              "      <th>7</th>\n",
              "      <td>0.51000</td>\n",
              "      <td>gini</td>\n",
              "      <td>3.0</td>\n",
              "      <td>11</td>\n",
              "      <td>150</td>\n",
              "    </tr>\n",
              "    <tr>\n",
              "      <th>6</th>\n",
              "      <td>0.50750</td>\n",
              "      <td>gini</td>\n",
              "      <td>3.0</td>\n",
              "      <td>9</td>\n",
              "      <td>150</td>\n",
              "    </tr>\n",
              "    <tr>\n",
              "      <th>21</th>\n",
              "      <td>0.49875</td>\n",
              "      <td>entropy</td>\n",
              "      <td>3.0</td>\n",
              "      <td>7</td>\n",
              "      <td>150</td>\n",
              "    </tr>\n",
              "    <tr>\n",
              "      <th>22</th>\n",
              "      <td>0.49250</td>\n",
              "      <td>entropy</td>\n",
              "      <td>3.0</td>\n",
              "      <td>9</td>\n",
              "      <td>150</td>\n",
              "    </tr>\n",
              "    <tr>\n",
              "      <th>23</th>\n",
              "      <td>0.48875</td>\n",
              "      <td>entropy</td>\n",
              "      <td>3.0</td>\n",
              "      <td>11</td>\n",
              "      <td>150</td>\n",
              "    </tr>\n",
              "    <tr>\n",
              "      <th>4</th>\n",
              "      <td>0.48375</td>\n",
              "      <td>gini</td>\n",
              "      <td>3.0</td>\n",
              "      <td>5</td>\n",
              "      <td>150</td>\n",
              "    </tr>\n",
              "    <tr>\n",
              "      <th>20</th>\n",
              "      <td>0.46250</td>\n",
              "      <td>entropy</td>\n",
              "      <td>3.0</td>\n",
              "      <td>5</td>\n",
              "      <td>150</td>\n",
              "    </tr>\n",
              "  </tbody>\n",
              "</table>\n",
              "</div>\n",
              "    <div class=\"colab-df-buttons\">\n",
              "\n",
              "  <div class=\"colab-df-container\">\n",
              "    <button class=\"colab-df-convert\" onclick=\"convertToInteractive('df-ea8b7ecb-5cbd-4c62-8968-553ceb5de141')\"\n",
              "            title=\"Convert this dataframe to an interactive table.\"\n",
              "            style=\"display:none;\">\n",
              "\n",
              "  <svg xmlns=\"http://www.w3.org/2000/svg\" height=\"24px\" viewBox=\"0 -960 960 960\">\n",
              "    <path d=\"M120-120v-720h720v720H120Zm60-500h600v-160H180v160Zm220 220h160v-160H400v160Zm0 220h160v-160H400v160ZM180-400h160v-160H180v160Zm440 0h160v-160H620v160ZM180-180h160v-160H180v160Zm440 0h160v-160H620v160Z\"/>\n",
              "  </svg>\n",
              "    </button>\n",
              "\n",
              "  <style>\n",
              "    .colab-df-container {\n",
              "      display:flex;\n",
              "      gap: 12px;\n",
              "    }\n",
              "\n",
              "    .colab-df-convert {\n",
              "      background-color: #E8F0FE;\n",
              "      border: none;\n",
              "      border-radius: 50%;\n",
              "      cursor: pointer;\n",
              "      display: none;\n",
              "      fill: #1967D2;\n",
              "      height: 32px;\n",
              "      padding: 0 0 0 0;\n",
              "      width: 32px;\n",
              "    }\n",
              "\n",
              "    .colab-df-convert:hover {\n",
              "      background-color: #E2EBFA;\n",
              "      box-shadow: 0px 1px 2px rgba(60, 64, 67, 0.3), 0px 1px 3px 1px rgba(60, 64, 67, 0.15);\n",
              "      fill: #174EA6;\n",
              "    }\n",
              "\n",
              "    .colab-df-buttons div {\n",
              "      margin-bottom: 4px;\n",
              "    }\n",
              "\n",
              "    [theme=dark] .colab-df-convert {\n",
              "      background-color: #3B4455;\n",
              "      fill: #D2E3FC;\n",
              "    }\n",
              "\n",
              "    [theme=dark] .colab-df-convert:hover {\n",
              "      background-color: #434B5C;\n",
              "      box-shadow: 0px 1px 3px 1px rgba(0, 0, 0, 0.15);\n",
              "      filter: drop-shadow(0px 1px 2px rgba(0, 0, 0, 0.3));\n",
              "      fill: #FFFFFF;\n",
              "    }\n",
              "  </style>\n",
              "\n",
              "    <script>\n",
              "      const buttonEl =\n",
              "        document.querySelector('#df-ea8b7ecb-5cbd-4c62-8968-553ceb5de141 button.colab-df-convert');\n",
              "      buttonEl.style.display =\n",
              "        google.colab.kernel.accessAllowed ? 'block' : 'none';\n",
              "\n",
              "      async function convertToInteractive(key) {\n",
              "        const element = document.querySelector('#df-ea8b7ecb-5cbd-4c62-8968-553ceb5de141');\n",
              "        const dataTable =\n",
              "          await google.colab.kernel.invokeFunction('convertToInteractive',\n",
              "                                                    [key], {});\n",
              "        if (!dataTable) return;\n",
              "\n",
              "        const docLinkHtml = 'Like what you see? Visit the ' +\n",
              "          '<a target=\"_blank\" href=https://colab.research.google.com/notebooks/data_table.ipynb>data table notebook</a>'\n",
              "          + ' to learn more about interactive tables.';\n",
              "        element.innerHTML = '';\n",
              "        dataTable['output_type'] = 'display_data';\n",
              "        await google.colab.output.renderOutput(dataTable, element);\n",
              "        const docLink = document.createElement('div');\n",
              "        docLink.innerHTML = docLinkHtml;\n",
              "        element.appendChild(docLink);\n",
              "      }\n",
              "    </script>\n",
              "  </div>\n",
              "\n",
              "\n",
              "<div id=\"df-a846cb15-fdab-4d2c-ae1d-0f223e79ff39\">\n",
              "  <button class=\"colab-df-quickchart\" onclick=\"quickchart('df-a846cb15-fdab-4d2c-ae1d-0f223e79ff39')\"\n",
              "            title=\"Suggest charts\"\n",
              "            style=\"display:none;\">\n",
              "\n",
              "<svg xmlns=\"http://www.w3.org/2000/svg\" height=\"24px\"viewBox=\"0 0 24 24\"\n",
              "     width=\"24px\">\n",
              "    <g>\n",
              "        <path d=\"M19 3H5c-1.1 0-2 .9-2 2v14c0 1.1.9 2 2 2h14c1.1 0 2-.9 2-2V5c0-1.1-.9-2-2-2zM9 17H7v-7h2v7zm4 0h-2V7h2v10zm4 0h-2v-4h2v4z\"/>\n",
              "    </g>\n",
              "</svg>\n",
              "  </button>\n",
              "\n",
              "<style>\n",
              "  .colab-df-quickchart {\n",
              "      --bg-color: #E8F0FE;\n",
              "      --fill-color: #1967D2;\n",
              "      --hover-bg-color: #E2EBFA;\n",
              "      --hover-fill-color: #174EA6;\n",
              "      --disabled-fill-color: #AAA;\n",
              "      --disabled-bg-color: #DDD;\n",
              "  }\n",
              "\n",
              "  [theme=dark] .colab-df-quickchart {\n",
              "      --bg-color: #3B4455;\n",
              "      --fill-color: #D2E3FC;\n",
              "      --hover-bg-color: #434B5C;\n",
              "      --hover-fill-color: #FFFFFF;\n",
              "      --disabled-bg-color: #3B4455;\n",
              "      --disabled-fill-color: #666;\n",
              "  }\n",
              "\n",
              "  .colab-df-quickchart {\n",
              "    background-color: var(--bg-color);\n",
              "    border: none;\n",
              "    border-radius: 50%;\n",
              "    cursor: pointer;\n",
              "    display: none;\n",
              "    fill: var(--fill-color);\n",
              "    height: 32px;\n",
              "    padding: 0;\n",
              "    width: 32px;\n",
              "  }\n",
              "\n",
              "  .colab-df-quickchart:hover {\n",
              "    background-color: var(--hover-bg-color);\n",
              "    box-shadow: 0 1px 2px rgba(60, 64, 67, 0.3), 0 1px 3px 1px rgba(60, 64, 67, 0.15);\n",
              "    fill: var(--button-hover-fill-color);\n",
              "  }\n",
              "\n",
              "  .colab-df-quickchart-complete:disabled,\n",
              "  .colab-df-quickchart-complete:disabled:hover {\n",
              "    background-color: var(--disabled-bg-color);\n",
              "    fill: var(--disabled-fill-color);\n",
              "    box-shadow: none;\n",
              "  }\n",
              "\n",
              "  .colab-df-spinner {\n",
              "    border: 2px solid var(--fill-color);\n",
              "    border-color: transparent;\n",
              "    border-bottom-color: var(--fill-color);\n",
              "    animation:\n",
              "      spin 1s steps(1) infinite;\n",
              "  }\n",
              "\n",
              "  @keyframes spin {\n",
              "    0% {\n",
              "      border-color: transparent;\n",
              "      border-bottom-color: var(--fill-color);\n",
              "      border-left-color: var(--fill-color);\n",
              "    }\n",
              "    20% {\n",
              "      border-color: transparent;\n",
              "      border-left-color: var(--fill-color);\n",
              "      border-top-color: var(--fill-color);\n",
              "    }\n",
              "    30% {\n",
              "      border-color: transparent;\n",
              "      border-left-color: var(--fill-color);\n",
              "      border-top-color: var(--fill-color);\n",
              "      border-right-color: var(--fill-color);\n",
              "    }\n",
              "    40% {\n",
              "      border-color: transparent;\n",
              "      border-right-color: var(--fill-color);\n",
              "      border-top-color: var(--fill-color);\n",
              "    }\n",
              "    60% {\n",
              "      border-color: transparent;\n",
              "      border-right-color: var(--fill-color);\n",
              "    }\n",
              "    80% {\n",
              "      border-color: transparent;\n",
              "      border-right-color: var(--fill-color);\n",
              "      border-bottom-color: var(--fill-color);\n",
              "    }\n",
              "    90% {\n",
              "      border-color: transparent;\n",
              "      border-bottom-color: var(--fill-color);\n",
              "    }\n",
              "  }\n",
              "</style>\n",
              "\n",
              "  <script>\n",
              "    async function quickchart(key) {\n",
              "      const quickchartButtonEl =\n",
              "        document.querySelector('#' + key + ' button');\n",
              "      quickchartButtonEl.disabled = true;  // To prevent multiple clicks.\n",
              "      quickchartButtonEl.classList.add('colab-df-spinner');\n",
              "      try {\n",
              "        const charts = await google.colab.kernel.invokeFunction(\n",
              "            'suggestCharts', [key], {});\n",
              "      } catch (error) {\n",
              "        console.error('Error during call to suggestCharts:', error);\n",
              "      }\n",
              "      quickchartButtonEl.classList.remove('colab-df-spinner');\n",
              "      quickchartButtonEl.classList.add('colab-df-quickchart-complete');\n",
              "    }\n",
              "    (() => {\n",
              "      let quickchartButtonEl =\n",
              "        document.querySelector('#df-a846cb15-fdab-4d2c-ae1d-0f223e79ff39 button');\n",
              "      quickchartButtonEl.style.display =\n",
              "        google.colab.kernel.accessAllowed ? 'block' : 'none';\n",
              "    })();\n",
              "  </script>\n",
              "</div>\n",
              "    </div>\n",
              "  </div>\n"
            ]
          },
          "metadata": {},
          "execution_count": 14
        }
      ]
    },
    {
      "cell_type": "markdown",
      "source": [
        "# Comprobación de los mejores modelos encontrados por la sintonización"
      ],
      "metadata": {
        "id": "6Ciq_9XP2PhN"
      }
    },
    {
      "cell_type": "code",
      "source": [
        "#Se sintoniza el algoritmo de random forest\n",
        "music_forest_1 = RandomForestClassifier(max_depth=None, random_state=0, oob_score =True, n_estimators=150, max_features=9, criterion='gini',n_jobs=-1)\n",
        "music_forest_1.fit(X_train, y_train[:,0])\n",
        "music_forest_1.oob_score_"
      ],
      "metadata": {
        "colab": {
          "base_uri": "https://localhost:8080/"
        },
        "id": "cplUxpVT2UgB",
        "outputId": "2ca29181-316b-4253-ab04-10579ed4663b"
      },
      "execution_count": 15,
      "outputs": [
        {
          "output_type": "execute_result",
          "data": {
            "text/plain": [
              "0.70375"
            ]
          },
          "metadata": {},
          "execution_count": 15
        }
      ]
    },
    {
      "cell_type": "code",
      "source": [
        "out_val_1 = music_forest_1.predict(X_val)\n",
        "print(out_val_1[:5])"
      ],
      "metadata": {
        "colab": {
          "base_uri": "https://localhost:8080/"
        },
        "id": "dV-Z_gP928hp",
        "outputId": "ca48ab14-0785-437a-94fd-b2b97c26c33f"
      },
      "execution_count": 16,
      "outputs": [
        {
          "output_type": "stream",
          "name": "stdout",
          "text": [
            "['hiphop' 'metal' 'pop' 'reggae' 'rock']\n"
          ]
        }
      ]
    },
    {
      "cell_type": "code",
      "source": [
        "plt.figure(figsize=(8,6), dpi=100)\n",
        "cf_matrix = confusion_matrix(out_val_1, y_val[:,0])\n",
        "\n",
        "sns.set(font_scale = 0.6)\n",
        "ax = sns.heatmap(cf_matrix, annot=True)\n",
        "\n",
        "ax.set_xlabel(\"Género real\", fontsize=14, labelpad=20)\n",
        "ax.xaxis.set_ticklabels(unique)\n",
        "\n",
        "ax.set_ylabel(\"Género predicho\", fontsize=14, labelpad=20)\n",
        "ax.yaxis.set_ticklabels(unique)\n",
        "plt.show()"
      ],
      "metadata": {
        "colab": {
          "base_uri": "https://localhost:8080/",
          "height": 571
        },
        "id": "5nPpS6nS3Fzk",
        "outputId": "676d90a3-176f-4ba2-fb77-b0aa1886e327"
      },
      "execution_count": 17,
      "outputs": [
        {
          "output_type": "display_data",
          "data": {
            "text/plain": [
              "<Figure size 800x600 with 2 Axes>"
            ],
            "image/png": "[encoded data removed]"
          },
          "metadata": {}
        }
      ]
    },
    {
      "cell_type": "code",
      "source": [
        "print(classification_report(y_val[:,0], out_val_1))"
      ],
      "metadata": {
        "colab": {
          "base_uri": "https://localhost:8080/"
        },
        "id": "h6Se9gwf3M4Y",
        "outputId": "c25f1865-1319-4d0f-e2bf-851bc4f3cfa1"
      },
      "execution_count": 18,
      "outputs": [
        {
          "output_type": "stream",
          "name": "stdout",
          "text": [
            "              precision    recall  f1-score   support\n",
            "\n",
            "       blues       0.57      0.57      0.57         7\n",
            "   classical       1.00      1.00      1.00         7\n",
            "     country       0.86      0.55      0.67        11\n",
            "       disco       0.27      0.38      0.32         8\n",
            "      hiphop       0.58      0.78      0.67         9\n",
            "        jazz       0.88      0.88      0.88        16\n",
            "       metal       0.79      0.85      0.81        13\n",
            "         pop       0.75      0.60      0.67         5\n",
            "      reggae       0.58      0.58      0.58        12\n",
            "        rock       0.50      0.42      0.45        12\n",
            "\n",
            "    accuracy                           0.67       100\n",
            "   macro avg       0.68      0.66      0.66       100\n",
            "weighted avg       0.69      0.67      0.67       100\n",
            "\n"
          ]
        }
      ]
    },
    {
      "cell_type": "code",
      "source": [
        "#Se sintoniza el algoritmo de random forest\n",
        "music_forest_2 = RandomForestClassifier(max_depth=20, random_state=0, oob_score =True, n_estimators=150, max_features=9, criterion='gini',n_jobs=-1)\n",
        "music_forest_2.fit(X_train, y_train[:,0])\n",
        "music_forest_2.oob_score_"
      ],
      "metadata": {
        "colab": {
          "base_uri": "https://localhost:8080/"
        },
        "id": "MH_XI5243iH_",
        "outputId": "ca665f99-4d09-4a66-bf2a-a1551ebe988a"
      },
      "execution_count": 20,
      "outputs": [
        {
          "output_type": "execute_result",
          "data": {
            "text/plain": [
              "0.7025"
            ]
          },
          "metadata": {},
          "execution_count": 20
        }
      ]
    },
    {
      "cell_type": "code",
      "source": [
        "out_val_2 = music_forest_2.predict(X_val)\n",
        "print(out_val[:5])"
      ],
      "metadata": {
        "colab": {
          "base_uri": "https://localhost:8080/"
        },
        "id": "ICAJ79_34UYa",
        "outputId": "d0e9b9fa-97e3-45a7-df4d-7b40c72f2929"
      },
      "execution_count": 21,
      "outputs": [
        {
          "output_type": "stream",
          "name": "stdout",
          "text": [
            "['hiphop' 'metal' 'pop' 'reggae' 'metal']\n"
          ]
        }
      ]
    },
    {
      "cell_type": "code",
      "source": [
        "plt.figure(figsize=(8,6), dpi=100)\n",
        "cf_matrix = confusion_matrix(out_val_2, y_val[:,0])\n",
        "\n",
        "sns.set(font_scale = 0.6)\n",
        "ax = sns.heatmap(cf_matrix, annot=True)\n",
        "\n",
        "ax.set_xlabel(\"Género real\", fontsize=14, labelpad=20)\n",
        "ax.xaxis.set_ticklabels(unique)\n",
        "\n",
        "ax.set_ylabel(\"Género predicho\", fontsize=14, labelpad=20)\n",
        "ax.yaxis.set_ticklabels(unique)\n",
        "plt.show()"
      ],
      "metadata": {
        "colab": {
          "base_uri": "https://localhost:8080/",
          "height": 571
        },
        "id": "XoBmRa_P4fMl",
        "outputId": "cce56f89-9990-46f8-ec07-7f9f3a3cb3f3"
      },
      "execution_count": 22,
      "outputs": [
        {
          "output_type": "display_data",
          "data": {
            "text/plain": [
              "<Figure size 800x600 with 2 Axes>"
            ],
            "image/png": "[encoded data removed]"
          },
          "metadata": {}
        }
      ]
    },
    {
      "cell_type": "code",
      "source": [
        "print(classification_report(y_val[:,0], out_val_2))"
      ],
      "metadata": {
        "colab": {
          "base_uri": "https://localhost:8080/"
        },
        "id": "CMwzembD4iJk",
        "outputId": "1be73123-2e80-49a8-c93c-778659fba171"
      },
      "execution_count": 23,
      "outputs": [
        {
          "output_type": "stream",
          "name": "stdout",
          "text": [
            "              precision    recall  f1-score   support\n",
            "\n",
            "       blues       0.57      0.57      0.57         7\n",
            "   classical       1.00      1.00      1.00         7\n",
            "     country       0.86      0.55      0.67        11\n",
            "       disco       0.27      0.38      0.32         8\n",
            "      hiphop       0.64      0.78      0.70         9\n",
            "        jazz       0.88      0.88      0.88        16\n",
            "       metal       0.73      0.85      0.79        13\n",
            "         pop       0.75      0.60      0.67         5\n",
            "      reggae       0.58      0.58      0.58        12\n",
            "        rock       0.50      0.42      0.45        12\n",
            "\n",
            "    accuracy                           0.67       100\n",
            "   macro avg       0.68      0.66      0.66       100\n",
            "weighted avg       0.69      0.67      0.67       100\n",
            "\n"
          ]
        }
      ]
    },
    {
      "cell_type": "code",
      "source": [
        "#Se sintoniza el algoritmo de random forest\n",
        "music_forest_3 = RandomForestClassifier(max_depth=None, random_state=0, oob_score =True, n_estimators=150, max_features=7, criterion='entropy',n_jobs=-1)\n",
        "music_forest_3.fit(X_train, y_train[:,0])\n",
        "music_forest_3.oob_score_"
      ],
      "metadata": {
        "colab": {
          "base_uri": "https://localhost:8080/"
        },
        "id": "v4wT2c944nBi",
        "outputId": "ff9d3a82-3fd2-4c69-83b1-e5a73465b426"
      },
      "execution_count": 24,
      "outputs": [
        {
          "output_type": "execute_result",
          "data": {
            "text/plain": [
              "0.69625"
            ]
          },
          "metadata": {},
          "execution_count": 24
        }
      ]
    },
    {
      "cell_type": "code",
      "source": [
        "out_val_3 = music_forest_3.predict(X_val)\n",
        "print(out_val[:5])"
      ],
      "metadata": {
        "colab": {
          "base_uri": "https://localhost:8080/"
        },
        "id": "rybmkxhB5LiJ",
        "outputId": "07583df1-bd2a-4942-a82a-08ad4b810353"
      },
      "execution_count": 25,
      "outputs": [
        {
          "output_type": "stream",
          "name": "stdout",
          "text": [
            "['hiphop' 'metal' 'pop' 'reggae' 'metal']\n"
          ]
        }
      ]
    },
    {
      "cell_type": "code",
      "source": [
        "plt.figure(figsize=(8,6), dpi=100)\n",
        "cf_matrix = confusion_matrix(out_val_3, y_val[:,0])\n",
        "\n",
        "sns.set(font_scale = 0.6)\n",
        "ax = sns.heatmap(cf_matrix, annot=True)\n",
        "\n",
        "ax.set_xlabel(\"Género real\", fontsize=14, labelpad=20)\n",
        "ax.xaxis.set_ticklabels(unique)\n",
        "\n",
        "ax.set_ylabel(\"Género predicho\", fontsize=14, labelpad=20)\n",
        "ax.yaxis.set_ticklabels(unique)\n",
        "plt.show()"
      ],
      "metadata": {
        "colab": {
          "base_uri": "https://localhost:8080/",
          "height": 571
        },
        "id": "K_-TnKQN5Q1Z",
        "outputId": "55094dc2-d35d-4003-a68d-668d850cb7fc"
      },
      "execution_count": 26,
      "outputs": [
        {
          "output_type": "display_data",
          "data": {
            "text/plain": [
              "<Figure size 800x600 with 2 Axes>"
            ],
            "image/png": "[encoded data removed]"
          },
          "metadata": {}
        }
      ]
    },
    {
      "cell_type": "code",
      "source": [
        "print(classification_report(y_val[:,0], out_val_3))"
      ],
      "metadata": {
        "colab": {
          "base_uri": "https://localhost:8080/"
        },
        "id": "YNHHI4qO5U5k",
        "outputId": "7686f473-4fb8-4364-efc8-fc1892d07765"
      },
      "execution_count": 27,
      "outputs": [
        {
          "output_type": "stream",
          "name": "stdout",
          "text": [
            "              precision    recall  f1-score   support\n",
            "\n",
            "       blues       0.80      0.57      0.67         7\n",
            "   classical       1.00      1.00      1.00         7\n",
            "     country       0.78      0.64      0.70        11\n",
            "       disco       0.50      0.50      0.50         8\n",
            "      hiphop       0.67      0.89      0.76         9\n",
            "        jazz       0.93      0.88      0.90        16\n",
            "       metal       0.75      0.92      0.83        13\n",
            "         pop       0.43      0.60      0.50         5\n",
            "      reggae       0.73      0.67      0.70        12\n",
            "        rock       0.50      0.42      0.45        12\n",
            "\n",
            "    accuracy                           0.72       100\n",
            "   macro avg       0.71      0.71      0.70       100\n",
            "weighted avg       0.73      0.72      0.72       100\n",
            "\n"
          ]
        }
      ]
    },
    {
      "cell_type": "code",
      "source": [
        "#Se sintoniza el algoritmo de random forest\n",
        "music_forest_4 = RandomForestClassifier(max_depth=20, random_state=0, oob_score =True, n_estimators=150, max_features=7, criterion='entropy',n_jobs=-1)\n",
        "music_forest_4.fit(X_train, y_train[:,0])\n",
        "music_forest_4.oob_score_"
      ],
      "metadata": {
        "colab": {
          "base_uri": "https://localhost:8080/"
        },
        "id": "fR-x-k_M5eSu",
        "outputId": "c5c48ce3-07d3-4f62-cf28-dfc41fa37006"
      },
      "execution_count": 12,
      "outputs": [
        {
          "output_type": "execute_result",
          "data": {
            "text/plain": [
              "0.69625"
            ]
          },
          "metadata": {},
          "execution_count": 12
        }
      ]
    },
    {
      "cell_type": "code",
      "source": [
        "out_val_4 = music_forest_4.predict(X_val)\n",
        "print(out_val_4[:5])"
      ],
      "metadata": {
        "colab": {
          "base_uri": "https://localhost:8080/"
        },
        "id": "AGquWiJ36BPl",
        "outputId": "cc1b7b5d-b3d9-427c-c39b-cf946f337807"
      },
      "execution_count": 13,
      "outputs": [
        {
          "output_type": "stream",
          "name": "stdout",
          "text": [
            "['hiphop' 'metal' 'pop' 'reggae' 'rock']\n"
          ]
        }
      ]
    },
    {
      "cell_type": "code",
      "source": [
        "plt.figure(figsize=(8,6), dpi=100)\n",
        "cf_matrix = confusion_matrix(out_val_4, y_val[:,0])\n",
        "\n",
        "sns.set(font_scale = 0.6)\n",
        "ax = sns.heatmap(cf_matrix, annot=True)\n",
        "\n",
        "ax.set_xlabel(\"Género real\", fontsize=14, labelpad=20)\n",
        "ax.xaxis.set_ticklabels(unique)\n",
        "\n",
        "ax.set_ylabel(\"Género predicho\", fontsize=14, labelpad=20)\n",
        "ax.yaxis.set_ticklabels(unique)\n",
        "plt.show()"
      ],
      "metadata": {
        "colab": {
          "base_uri": "https://localhost:8080/",
          "height": 571
        },
        "id": "koLN-rEl6FRZ",
        "outputId": "f7980e81-a210-49ab-a8a3-66ebd6517e93"
      },
      "execution_count": 14,
      "outputs": [
        {
          "output_type": "display_data",
          "data": {
            "text/plain": [
              "<Figure size 800x600 with 2 Axes>"
            ],
            "image/png": "[encoded data removed]"
          },
          "metadata": {}
        }
      ]
    },
    {
      "cell_type": "code",
      "source": [
        "print(classification_report(y_val[:,0], out_val_4))"
      ],
      "metadata": {
        "colab": {
          "base_uri": "https://localhost:8080/"
        },
        "id": "MbKKtMX36MuC",
        "outputId": "52556ce8-d00e-4672-f9d8-3ce973852d00"
      },
      "execution_count": 15,
      "outputs": [
        {
          "output_type": "stream",
          "name": "stdout",
          "text": [
            "              precision    recall  f1-score   support\n",
            "\n",
            "       blues       0.80      0.57      0.67         7\n",
            "   classical       1.00      1.00      1.00         7\n",
            "     country       0.78      0.64      0.70        11\n",
            "       disco       0.50      0.50      0.50         8\n",
            "      hiphop       0.67      0.89      0.76         9\n",
            "        jazz       0.93      0.88      0.90        16\n",
            "       metal       0.75      0.92      0.83        13\n",
            "         pop       0.43      0.60      0.50         5\n",
            "      reggae       0.73      0.67      0.70        12\n",
            "        rock       0.50      0.42      0.45        12\n",
            "\n",
            "    accuracy                           0.72       100\n",
            "   macro avg       0.71      0.71      0.70       100\n",
            "weighted avg       0.73      0.72      0.72       100\n",
            "\n"
          ]
        }
      ]
    },
    {
      "cell_type": "markdown",
      "source": [
        "# Prueba con un dato de la vida real\n",
        "\n",
        "---\n",
        "\n"
      ],
      "metadata": {
        "id": "9N3GCpEB-rGD"
      }
    },
    {
      "cell_type": "code",
      "source": [
        "import librosa\n",
        "import librosa.feature as Aud"
      ],
      "metadata": {
        "id": "JRNM9rZk6TPO"
      },
      "execution_count": 16,
      "outputs": []
    },
    {
      "cell_type": "code",
      "source": [
        "audio_path = '/Audio/metal.00017.wav'\n",
        "x , sr = librosa.load(audio_path, sr=None)\n",
        "record = {}\n",
        "print(x.shape, sr, np.mean(x))"
      ],
      "metadata": {
        "colab": {
          "base_uri": "https://localhost:8080/"
        },
        "id": "gh83nUvZ-3bv",
        "outputId": "43bb5fa4-8798-4fdc-fd53-8b9a445f72c1"
      },
      "execution_count": 25,
      "outputs": [
        {
          "output_type": "stream",
          "name": "stdout",
          "text": [
            "(661504,) 22050 -0.0062890104\n"
          ]
        }
      ]
    },
    {
      "cell_type": "code",
      "source": [
        "chroma = Aud.chroma_stft(y=x, sr=sr)\n",
        "rms = Aud.rms(y=x)\n",
        "cent = Aud.spectral_centroid(y=x, sr=sr)\n",
        "spec_bw = Aud.spectral_bandwidth(y=x, sr=sr)\n",
        "rolloff = Aud.spectral_rolloff(y=x, sr=sr)\n",
        "zero_cross = Aud.zero_crossing_rate(x)\n",
        "onset_env = librosa.onset.onset_strength(y=x, sr=sr)\n",
        "tempo = Aud.tempo(onset_envelope=onset_env, sr=sr)\n",
        "\n",
        "record['chroma_stft_mean'] = np.mean(chroma)\n",
        "record['chroma_stft_var'] = np.var(chroma)\n",
        "record['rms_mean'] = np.mean(rms)\n",
        "record['rms_var'] = np.var(rms)\n",
        "record['spectral_centroid_mean'] = np.mean(cent)\n",
        "record['spectral_centroid_var'] = np.var(cent)\n",
        "record['spectral_bandwidth_mean'] = np.mean(spec_bw)\n",
        "record['spectral_bandwidth_var'] = np.var(spec_bw)\n",
        "record['rolloff_mean'] = np.mean(rolloff)\n",
        "record['rolloff_var'] = np.var(rolloff)\n",
        "record['zero_crossing_rate_mean'] = np.mean(zero_cross)\n",
        "record['zero_crossing_rate_var'] = np.var(zero_cross)\n",
        "record['tempo'] = tempo"
      ],
      "metadata": {
        "id": "nlkZzO4Q_TDZ"
      },
      "execution_count": 26,
      "outputs": []
    },
    {
      "cell_type": "code",
      "source": [
        "mfccs = Aud.mfcc(y = x, sr = sr)\n",
        "for i in range(mfccs.shape[0]):\n",
        "  key_m = 'mfcc' + str(i+1) + '_mean'\n",
        "  key_v = 'mfcc' + str(i+1) + '_var'\n",
        "  record[key_m] = np.mean(mfccs[i,:])\n",
        "  record[key_v] = np.var(mfccs[i,:])\n",
        "\n",
        "df = pd.DataFrame(record)\n",
        "df = df.values\n",
        "print(df.shape)"
      ],
      "metadata": {
        "colab": {
          "base_uri": "https://localhost:8080/"
        },
        "id": "K2QprIHd_UNY",
        "outputId": "15f73c34-99ae-4517-fe15-080e1ab21571"
      },
      "execution_count": 27,
      "outputs": [
        {
          "output_type": "stream",
          "name": "stdout",
          "text": [
            "(1, 53)\n"
          ]
        }
      ]
    },
    {
      "cell_type": "code",
      "source": [
        "Mago = music_forest_4.predict(df)\n",
        "print(Mago)"
      ],
      "metadata": {
        "colab": {
          "base_uri": "https://localhost:8080/"
        },
        "id": "n9IJ_W58_jUl",
        "outputId": "5ed9dd67-51a2-4a4e-91af-8f72f43d613b"
      },
      "execution_count": 28,
      "outputs": [
        {
          "output_type": "stream",
          "name": "stdout",
          "text": [
            "['metal']\n"
          ]
        }
      ]
    },
    {
      "cell_type": "markdown",
      "source": [
        "# Se exporta el modelo a un archivo"
      ],
      "metadata": {
        "id": "AFplTUQByBiO"
      }
    },
    {
      "cell_type": "code",
      "source": [
        "filename = '/finalized_model_RandomF.sav'\n",
        "pickle.dump(music_forest_4, open(filename, 'wb'))"
      ],
      "metadata": {
        "id": "KxeXvMAAAsLi"
      },
      "execution_count": 30,
      "outputs": []
    },
    {
      "cell_type": "code",
      "source": [
        "# load the model from disk\n",
        "loaded_model = pickle.load(open('/finalized_model_RandomF.sav', 'rb'))\n",
        "result = loaded_model.predict(df)\n",
        "print(result)"
      ],
      "metadata": {
        "colab": {
          "base_uri": "https://localhost:8080/"
        },
        "id": "OTc8q-E3yMOF",
        "outputId": "662c4ac8-655b-42f7-8907-903061bcb51c"
      },
      "execution_count": 31,
      "outputs": [
        {
          "output_type": "stream",
          "name": "stdout",
          "text": [
            "['metal']\n"
          ]
        }
      ]
    },
    {
      "cell_type": "code",
      "source": [],
      "metadata": {
        "id": "lvtjDqemyqOx"
      },
      "execution_count": null,
      "outputs": []
    }
  ]
}