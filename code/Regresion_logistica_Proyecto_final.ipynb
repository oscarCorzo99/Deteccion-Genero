{
  "nbformat": 4,
  "nbformat_minor": 0,
  "metadata": {
    "colab": {
      "provenance": []
    },
    "kernelspec": {
      "name": "python3",
      "display_name": "Python 3"
    },
    "language_info": {
      "name": "python"
    }
  },
  "cells": [
    {
      "cell_type": "code",
      "execution_count": 45,
      "metadata": {
        "id": "_JPNI5simBW9"
      },
      "outputs": [],
      "source": [
        "import pandas as pd\n",
        "import numpy as np\n",
        "from numpy import mean\n",
        "from numpy import std\n",
        "from sklearn.preprocessing import StandardScaler\n",
        "from sklearn.model_selection import train_test_split\n",
        "from sklearn.linear_model import LogisticRegression\n",
        "from sklearn.metrics import confusion_matrix\n",
        "import seaborn as sns\n",
        "import matplotlib.pyplot as plt\n",
        "from sklearn.metrics import classification_report\n",
        "from sklearn.model_selection import RepeatedStratifiedKFold\n",
        "from sklearn.model_selection import cross_val_score\n",
        "import pickle"
      ]
    },
    {
      "cell_type": "code",
      "source": [
        "#Inspección del conjunto de datos de entrada\n",
        "music = pd.read_csv('/home/features_30_sec.csv')\n",
        "music = music.drop(columns=['harmony_mean','harmony_var','perceptr_mean','perceptr_var'])\n",
        "print(len(list(music.columns))-3)"
      ],
      "metadata": {
        "colab": {
          "base_uri": "https://localhost:8080/"
        },
        "id": "fqjILepumsBJ",
        "outputId": "5e8dce85-f63d-481c-f34b-b0ec64174c56"
      },
      "execution_count": 2,
      "outputs": [
        {
          "output_type": "stream",
          "name": "stdout",
          "text": [
            "53\n"
          ]
        }
      ]
    },
    {
      "cell_type": "code",
      "source": [
        "music_label = music.values[:,-1]\n",
        "music_features = music.values[:,2:-1]\n",
        "music_index = music.values[:,0:1]\n",
        "\n",
        "#Se pegan la etiqueta y el nombre de la canción\n",
        "music_label = np.concatenate((music_label.reshape(1000,1),music_index.reshape(1000,1)), axis=1)\n",
        "print(music_label[0:4,:])"
      ],
      "metadata": {
        "colab": {
          "base_uri": "https://localhost:8080/"
        },
        "id": "AvDQluWgnVRa",
        "outputId": "1b3f5a7e-47cf-4fb0-cff7-bd305a29c5c4"
      },
      "execution_count": 3,
      "outputs": [
        {
          "output_type": "stream",
          "name": "stdout",
          "text": [
            "[['blues' 'blues.00000.wav']\n",
            " ['blues' 'blues.00001.wav']\n",
            " ['blues' 'blues.00002.wav']\n",
            " ['blues' 'blues.00003.wav']]\n"
          ]
        }
      ]
    },
    {
      "cell_type": "code",
      "source": [
        "\n",
        "X_train, X_val_test, y_train, y_val_test = train_test_split(music_features, music_label, test_size=0.20, random_state=42)\n",
        "X_val, X_test, y_val, y_test = train_test_split(X_val_test, y_val_test, test_size=0.50, random_state=42)\n"
      ],
      "metadata": {
        "id": "5_67HFrHnYSZ"
      },
      "execution_count": 4,
      "outputs": []
    },
    {
      "cell_type": "code",
      "source": [
        "music_Regression = clf = LogisticRegression(random_state=0, multi_class='multinomial', solver='lbfgs',penalty='l2', C=1.0, max_iter=1000)\n",
        "#Metodo de evaluación\n",
        "cv = RepeatedStratifiedKFold(n_splits=10, n_repeats=10, random_state=1)\n",
        "#Evaluar el modelo\n",
        "n_scores = cross_val_score(music_Regression, X_train, y_train[:,0], scoring='accuracy', cv=cv, n_jobs=-1)\n",
        "print('Mean Accuracy: %.3f (%.3f)' % (mean(n_scores), std(n_scores)))"
      ],
      "metadata": {
        "colab": {
          "base_uri": "https://localhost:8080/"
        },
        "id": "HJ79oLMZnbnJ",
        "outputId": "f54cd36c-92c4-4b73-9ded-bc128f5aefb7"
      },
      "execution_count": 9,
      "outputs": [
        {
          "output_type": "stream",
          "name": "stdout",
          "text": [
            "Mean Accuracy: 0.376 (0.041)\n"
          ]
        }
      ]
    },
    {
      "cell_type": "code",
      "source": [
        "music_Regression.fit(X_train, y_train[:,0])\n",
        "out_val = music_Regression.predict(X_val)\n",
        "print(out_val[:5])\n",
        "print(y_val[:5,0])"
      ],
      "metadata": {
        "colab": {
          "base_uri": "https://localhost:8080/"
        },
        "id": "TrRIOHE7n3K4",
        "outputId": "f60fafeb-27b7-4ef7-f492-2d142a0a829e"
      },
      "execution_count": 10,
      "outputs": [
        {
          "output_type": "stream",
          "name": "stdout",
          "text": [
            "['disco' 'metal' 'hiphop' 'reggae' 'metal']\n",
            "['hiphop' 'metal' 'pop' 'rock' 'rock']\n"
          ]
        },
        {
          "output_type": "stream",
          "name": "stderr",
          "text": [
            "/usr/local/lib/python3.10/dist-packages/sklearn/linear_model/_logistic.py:458: ConvergenceWarning: lbfgs failed to converge (status=1):\n",
            "STOP: TOTAL NO. of ITERATIONS REACHED LIMIT.\n",
            "\n",
            "Increase the number of iterations (max_iter) or scale the data as shown in:\n",
            "    https://scikit-learn.org/stable/modules/preprocessing.html\n",
            "Please also refer to the documentation for alternative solver options:\n",
            "    https://scikit-learn.org/stable/modules/linear_model.html#logistic-regression\n",
            "  n_iter_i = _check_optimize_result(\n"
          ]
        }
      ]
    },
    {
      "cell_type": "code",
      "source": [
        "unique, counts = np.unique(out_val, return_counts=True)\n",
        "dict(zip(unique, counts))"
      ],
      "metadata": {
        "colab": {
          "base_uri": "https://localhost:8080/"
        },
        "id": "pTqMqKmhoYOD",
        "outputId": "725fb6c9-12ed-4e21-d21b-5b2877287d3b"
      },
      "execution_count": 11,
      "outputs": [
        {
          "output_type": "execute_result",
          "data": {
            "text/plain": [
              "{'blues': 13,\n",
              " 'classical': 9,\n",
              " 'country': 5,\n",
              " 'disco': 12,\n",
              " 'hiphop': 4,\n",
              " 'jazz': 8,\n",
              " 'metal': 25,\n",
              " 'pop': 9,\n",
              " 'reggae': 7,\n",
              " 'rock': 8}"
            ]
          },
          "metadata": {},
          "execution_count": 11
        }
      ]
    },
    {
      "cell_type": "code",
      "source": [
        "unique, counts = np.unique(y_val[:,0], return_counts=True)\n",
        "dict(zip(unique, counts))"
      ],
      "metadata": {
        "colab": {
          "base_uri": "https://localhost:8080/"
        },
        "id": "noGum56RoduK",
        "outputId": "ec2e56bc-b530-499e-aeab-195d934a0e16"
      },
      "execution_count": 12,
      "outputs": [
        {
          "output_type": "execute_result",
          "data": {
            "text/plain": [
              "{'blues': 7,\n",
              " 'classical': 7,\n",
              " 'country': 11,\n",
              " 'disco': 8,\n",
              " 'hiphop': 9,\n",
              " 'jazz': 16,\n",
              " 'metal': 13,\n",
              " 'pop': 5,\n",
              " 'reggae': 12,\n",
              " 'rock': 12}"
            ]
          },
          "metadata": {},
          "execution_count": 12
        }
      ]
    },
    {
      "cell_type": "code",
      "source": [
        "plt.figure(figsize=(8,6), dpi=100)\n",
        "cf_matrix = confusion_matrix(out_val, y_val[:,0])\n",
        "\n",
        "sns.set(font_scale = 0.6)\n",
        "ax = sns.heatmap(cf_matrix, annot=True)\n",
        "\n",
        "ax.set_xlabel(\"Género real\", fontsize=14, labelpad=20)\n",
        "ax.xaxis.set_ticklabels(unique)\n",
        "\n",
        "ax.set_ylabel(\"Género predicho\", fontsize=14, labelpad=20)\n",
        "ax.yaxis.set_ticklabels(unique)\n",
        "plt.show()"
      ],
      "metadata": {
        "colab": {
          "base_uri": "https://localhost:8080/",
          "height": 567
        },
        "id": "mfdR7ez7oBKn",
        "outputId": "28222b9a-fb1f-49dc-c5eb-49f0ac6d943f"
      },
      "execution_count": 13,
      "outputs": [
        {
          "output_type": "display_data",
          "data": {
            "text/plain": [
              "<Figure size 800x600 with 2 Axes>"
            ],
            "image/png": "[encoded data removed]"
          },
          "metadata": {}
        }
      ]
    },
    {
      "cell_type": "code",
      "source": [
        "print(classification_report(y_val[:,0], out_val))"
      ],
      "metadata": {
        "colab": {
          "base_uri": "https://localhost:8080/"
        },
        "id": "5tHOETpSoTVI",
        "outputId": "d88aeb36-0152-42b8-ffad-7fb19da27f7e"
      },
      "execution_count": 14,
      "outputs": [
        {
          "output_type": "stream",
          "name": "stdout",
          "text": [
            "              precision    recall  f1-score   support\n",
            "\n",
            "       blues       0.08      0.14      0.10         7\n",
            "   classical       0.67      0.86      0.75         7\n",
            "     country       0.60      0.27      0.37        11\n",
            "       disco       0.17      0.25      0.20         8\n",
            "      hiphop       0.00      0.00      0.00         9\n",
            "        jazz       0.88      0.44      0.58        16\n",
            "       metal       0.44      0.85      0.58        13\n",
            "         pop       0.22      0.40      0.29         5\n",
            "      reggae       0.29      0.17      0.21        12\n",
            "        rock       0.25      0.17      0.20        12\n",
            "\n",
            "    accuracy                           0.36       100\n",
            "   macro avg       0.36      0.35      0.33       100\n",
            "weighted avg       0.40      0.36      0.35       100\n",
            "\n"
          ]
        }
      ]
    },
    {
      "cell_type": "markdown",
      "source": [
        "# Uso de standard scaler para mejorar el performance del modelo"
      ],
      "metadata": {
        "id": "ar1rImf7vX6y"
      }
    },
    {
      "cell_type": "code",
      "source": [
        "data = [[0, 0], [0, 0], [1, 1], [1, 1]]\n",
        "scaler = StandardScaler()\n",
        "scaler.fit(data)\n",
        "print(scaler.mean_)\n",
        "print(scaler.var_)"
      ],
      "metadata": {
        "colab": {
          "base_uri": "https://localhost:8080/"
        },
        "id": "Is1fvh3SwcOu",
        "outputId": "08e793d8-db63-4c67-f82f-8575572f0b3c"
      },
      "execution_count": null,
      "outputs": [
        {
          "output_type": "stream",
          "name": "stdout",
          "text": [
            "[0.5 0.5]\n",
            "[0.25 0.25]\n"
          ]
        }
      ]
    },
    {
      "cell_type": "code",
      "source": [
        "#Cada columna se centra en un promedio de 0 y una desviación estándar de 1\n",
        "scaler = StandardScaler()\n",
        "scaled_features = scaler.fit_transform(X_train)"
      ],
      "metadata": {
        "id": "Qij7g6Dlo5O8"
      },
      "execution_count": 5,
      "outputs": []
    },
    {
      "cell_type": "code",
      "source": [
        "music_Regression_1 = clf = LogisticRegression(random_state=0, multi_class='multinomial', solver='lbfgs',penalty='l2', C=1.0, max_iter=1000)\n",
        "music_Regression_1.fit(scaled_features, y_train[:,0])\n",
        "scaled_vals = scaler.transform(X_val)\n",
        "out_val_1 = music_Regression_1.predict(scaled_vals)\n",
        "print(out_val_1[:5])\n",
        "print(y_val[:5,0])"
      ],
      "metadata": {
        "colab": {
          "base_uri": "https://localhost:8080/"
        },
        "id": "nyxWxfVKwlMn",
        "outputId": "27a31651-7421-40cd-bebd-06f5c5f829d8"
      },
      "execution_count": 6,
      "outputs": [
        {
          "output_type": "stream",
          "name": "stdout",
          "text": [
            "['hiphop' 'metal' 'pop' 'reggae' 'rock']\n",
            "['hiphop' 'metal' 'pop' 'rock' 'rock']\n"
          ]
        }
      ]
    },
    {
      "cell_type": "code",
      "source": [
        "print(classification_report(y_val[:,0], out_val_1))"
      ],
      "metadata": {
        "colab": {
          "base_uri": "https://localhost:8080/"
        },
        "id": "0p2sd50sxfPo",
        "outputId": "1d82ff35-64c1-458d-f502-f8124792ebad"
      },
      "execution_count": 7,
      "outputs": [
        {
          "output_type": "stream",
          "name": "stdout",
          "text": [
            "              precision    recall  f1-score   support\n",
            "\n",
            "       blues       0.57      0.57      0.57         7\n",
            "   classical       1.00      1.00      1.00         7\n",
            "     country       0.69      0.82      0.75        11\n",
            "       disco       0.50      0.50      0.50         8\n",
            "      hiphop       0.64      0.78      0.70         9\n",
            "        jazz       0.86      0.75      0.80        16\n",
            "       metal       1.00      0.85      0.92        13\n",
            "         pop       1.00      0.60      0.75         5\n",
            "      reggae       0.50      0.50      0.50        12\n",
            "        rock       0.57      0.67      0.62        12\n",
            "\n",
            "    accuracy                           0.71       100\n",
            "   macro avg       0.73      0.70      0.71       100\n",
            "weighted avg       0.73      0.71      0.71       100\n",
            "\n"
          ]
        }
      ]
    },
    {
      "cell_type": "code",
      "source": [
        "plt.figure(figsize=(8,6), dpi=100)\n",
        "cf_matrix = confusion_matrix(out_val_1, y_val[:,0])\n",
        "\n",
        "sns.set(font_scale = 0.6)\n",
        "ax = sns.heatmap(cf_matrix, annot=True)\n",
        "\n",
        "ax.set_xlabel(\"Género real\", fontsize=14, labelpad=20)\n",
        "ax.xaxis.set_ticklabels(unique)\n",
        "\n",
        "ax.set_ylabel(\"Género predicho\", fontsize=14, labelpad=20)\n",
        "ax.yaxis.set_ticklabels(unique)\n",
        "plt.show()"
      ],
      "metadata": {
        "colab": {
          "base_uri": "https://localhost:8080/",
          "height": 571
        },
        "id": "ZDK4qNhDxnbn",
        "outputId": "7547bbdb-e86b-458c-8fbe-9864d99dda70"
      },
      "execution_count": 15,
      "outputs": [
        {
          "output_type": "display_data",
          "data": {
            "text/plain": [
              "<Figure size 800x600 with 2 Axes>"
            ],
            "image/png": "[encoded data removed]"
          },
          "metadata": {}
        }
      ]
    },
    {
      "cell_type": "markdown",
      "source": [
        "# Prueba con un dato de la vida real\n",
        "\n",
        "---\n",
        "\n"
      ],
      "metadata": {
        "id": "9o78nx0IrLea"
      }
    },
    {
      "cell_type": "code",
      "source": [
        "import librosa\n",
        "import librosa.feature as Aud"
      ],
      "metadata": {
        "id": "nB_bbb9Nx08V"
      },
      "execution_count": 16,
      "outputs": []
    },
    {
      "cell_type": "code",
      "source": [
        "audio_path = '/Audio/Master of Puppets.wav'\n",
        "x , sr = librosa.load(audio_path, sr=None)\n",
        "record = {}\n",
        "print(x.shape, sr, np.mean(x))"
      ],
      "metadata": {
        "colab": {
          "base_uri": "https://localhost:8080/"
        },
        "id": "FyEcT4QmrOlc",
        "outputId": "43939e0c-48f0-4dae-e332-3581a9bf8d24"
      },
      "execution_count": 41,
      "outputs": [
        {
          "output_type": "stream",
          "name": "stdout",
          "text": [
            "(3070097,) 48000 -1.33928825e-05\n"
          ]
        }
      ]
    },
    {
      "cell_type": "code",
      "source": [
        "chroma = Aud.chroma_stft(y=x, sr=sr)\n",
        "rms = Aud.rms(y=x)\n",
        "cent = Aud.spectral_centroid(y=x, sr=sr)\n",
        "spec_bw = Aud.spectral_bandwidth(y=x, sr=sr)\n",
        "rolloff = Aud.spectral_rolloff(y=x, sr=sr)\n",
        "zero_cross = Aud.zero_crossing_rate(x)\n",
        "onset_env = librosa.onset.onset_strength(y=x, sr=sr)\n",
        "tempo = Aud.tempo(onset_envelope=onset_env, sr=sr)\n",
        "\n",
        "record['chroma_stft_mean'] = np.mean(chroma)\n",
        "record['chroma_stft_var'] = np.var(chroma)\n",
        "record['rms_mean'] = np.mean(rms)\n",
        "record['rms_var'] = np.var(rms)\n",
        "record['spectral_centroid_mean'] = np.mean(cent)\n",
        "record['spectral_centroid_var'] = np.var(cent)\n",
        "record['spectral_bandwidth_mean'] = np.mean(spec_bw)\n",
        "record['spectral_bandwidth_var'] = np.var(spec_bw)\n",
        "record['rolloff_mean'] = np.mean(rolloff)\n",
        "record['rolloff_var'] = np.var(rolloff)\n",
        "record['zero_crossing_rate_mean'] = np.mean(zero_cross)\n",
        "record['zero_crossing_rate_var'] = np.var(zero_cross)\n",
        "record['tempo'] = tempo"
      ],
      "metadata": {
        "id": "4pbll83lrRhB"
      },
      "execution_count": 42,
      "outputs": []
    },
    {
      "cell_type": "code",
      "source": [
        "mfccs = Aud.mfcc(y = x, sr = sr)\n",
        "for i in range(mfccs.shape[0]):\n",
        "  key_m = 'mfcc' + str(i+1) + '_mean'\n",
        "  key_v = 'mfcc' + str(i+1) + '_var'\n",
        "  record[key_m] = np.mean(mfccs[i,:])\n",
        "  record[key_v] = np.var(mfccs[i,:])\n",
        "\n",
        "df = pd.DataFrame(record)\n",
        "df = df.values\n",
        "print(df.shape)"
      ],
      "metadata": {
        "colab": {
          "base_uri": "https://localhost:8080/"
        },
        "id": "Crw_9LfRrVmQ",
        "outputId": "f5be00b0-a9b2-4dbd-de75-3802b28aacad"
      },
      "execution_count": 43,
      "outputs": [
        {
          "output_type": "stream",
          "name": "stdout",
          "text": [
            "(1, 53)\n"
          ]
        }
      ]
    },
    {
      "cell_type": "code",
      "source": [
        "scaled_vals = scaler.transform(df)\n",
        "out_ = music_Regression_1.predict(scaled_vals)\n",
        "print(out_)"
      ],
      "metadata": {
        "colab": {
          "base_uri": "https://localhost:8080/"
        },
        "id": "3oDAkV4GrXf2",
        "outputId": "5cf427bb-dcd2-4562-ac23-539d90383721"
      },
      "execution_count": 44,
      "outputs": [
        {
          "output_type": "stream",
          "name": "stdout",
          "text": [
            "['metal']\n"
          ]
        }
      ]
    },
    {
      "cell_type": "markdown",
      "source": [
        "# Se exporta el modelo a un archivo"
      ],
      "metadata": {
        "id": "z1HEnlkmvIgu"
      }
    },
    {
      "cell_type": "code",
      "source": [
        "filename = '/finalized_model.sav'\n",
        "pickle.dump(music_Regression_1, open(filename, 'wb'))"
      ],
      "metadata": {
        "id": "5WSLmoTxsI07"
      },
      "execution_count": 47,
      "outputs": []
    },
    {
      "cell_type": "code",
      "source": [
        "filename = '/scaler_regression.sav'\n",
        "pickle.dump(scaler, open(filename, 'wb'))"
      ],
      "metadata": {
        "id": "6gLy02X4wgqW"
      },
      "execution_count": 50,
      "outputs": []
    },
    {
      "cell_type": "code",
      "source": [
        "# load the model from disk\n",
        "loaded_model = pickle.load(open('/finalized_model_regression.sav', 'rb'))\n",
        "scaled_vals = scaler.transform(X_test)\n",
        "result = loaded_model.score(scaled_vals, y_test[:,0])\n",
        "print(result)"
      ],
      "metadata": {
        "colab": {
          "base_uri": "https://localhost:8080/"
        },
        "id": "jHGp3X9AvQri",
        "outputId": "afabe388-ff25-46e0-a992-2a2b27bf3d29"
      },
      "execution_count": 49,
      "outputs": [
        {
          "output_type": "stream",
          "name": "stdout",
          "text": [
            "0.63\n"
          ]
        }
      ]
    },
    {
      "cell_type": "code",
      "source": [
        "# load the scaler from disk\n",
        "loaded_scaler = pickle.load(open('/scaler_regression.sav', 'rb'))\n",
        "scaled_vals = loaded_scaler.transform(X_test)\n",
        "scaled_vals[:5,:5]"
      ],
      "metadata": {
        "colab": {
          "base_uri": "https://localhost:8080/"
        },
        "id": "q_WGGa6JwNfx",
        "outputId": "628221e7-b5bf-4a2f-bfc4-568db641850a"
      },
      "execution_count": 51,
      "outputs": [
        {
          "output_type": "execute_result",
          "data": {
            "text/plain": [
              "array([[ 1.73141377, -0.95050318, -0.61774448,  0.2542268 ,  1.05215287],\n",
              "       [ 0.66247135, -0.61475972,  0.74094167, -0.43555777,  0.36726602],\n",
              "       [-0.01317555,  0.91560303, -0.27003008, -0.02835125,  0.08302017],\n",
              "       [ 0.6587854 , -0.82982306,  0.98390617,  0.0862291 , -0.34601159],\n",
              "       [ 0.23025814,  0.44907922,  0.13795656, -0.30689118, -0.64470753]])"
            ]
          },
          "metadata": {},
          "execution_count": 51
        }
      ]
    },
    {
      "cell_type": "code",
      "source": [],
      "metadata": {
        "id": "cCemEQqGxO0f"
      },
      "execution_count": null,
      "outputs": []
    }
  ]
}